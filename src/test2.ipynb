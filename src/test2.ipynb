{
 "cells": [
  {
   "cell_type": "code",
   "execution_count": 1,
   "metadata": {},
   "outputs": [],
   "source": [
    "from sklearn.model_selection import train_test_split\n",
    "from tensorflow.keras.preprocessing.text import Tokenizer\n",
    "from tensorflow.keras.preprocessing.sequence import pad_sequences\n",
    "import pickle\n",
    "import numpy as np\n",
    "import tensorflow as tf"
   ]
  },
  {
   "cell_type": "code",
   "execution_count": 2,
   "metadata": {},
   "outputs": [],
   "source": [
    "with open(\"all_data.pkl\", \"rb\") as f:\n",
    "    all_data = pickle.load(f)"
   ]
  },
  {
   "cell_type": "code",
   "execution_count": 3,
   "metadata": {},
   "outputs": [],
   "source": [
    "def build_labels(data):\n",
    "    labels = np.zeros([len(data), 9])\n",
    "    label2idx = {}\n",
    "    idx2label = {}\n",
    "    idx = 0\n",
    "    for item in data:\n",
    "        if item[0] not in label2idx.keys():\n",
    "            label2idx[item[0]] = idx\n",
    "            idx2label[idx] = item[0]\n",
    "            idx += 1\n",
    "    for (i, item) in enumerate(data):\n",
    "        labels[i][label2idx[item[0]]] = 1\n",
    "    return labels, label2idx, idx2label"
   ]
  },
  {
   "cell_type": "code",
   "execution_count": 4,
   "metadata": {},
   "outputs": [],
   "source": [
    "labels, label2idx, idx2label = build_labels(all_data)"
   ]
  },
  {
   "cell_type": "code",
   "execution_count": null,
   "metadata": {},
   "outputs": [],
   "source": [
    "labels[0]"
   ]
  },
  {
   "cell_type": "code",
   "execution_count": 5,
   "metadata": {},
   "outputs": [],
   "source": [
    "corpus = []\n",
    "for item in all_data:\n",
    "    corpus.append(' '.join(item[1]))"
   ]
  },
  {
   "cell_type": "code",
   "execution_count": 6,
   "metadata": {},
   "outputs": [],
   "source": [
    "tokenizer=Tokenizer(15000)\n",
    "tokenizer.fit_on_texts(corpus)\n",
    "vocab=tokenizer.word_index\n",
    "x_train, x_test, y_train, y_test = train_test_split(corpus, labels, test_size=0.1)\n",
    "x_train = tokenizer.texts_to_sequences(x_train)\n",
    "x_test = tokenizer.texts_to_sequences(x_test)\n",
    "x_train = pad_sequences(x_train, maxlen=100)\n",
    "x_test = pad_sequences(x_test, maxlen=100)"
   ]
  },
  {
   "cell_type": "code",
   "execution_count": 10,
   "metadata": {},
   "outputs": [],
   "source": [
    "model = tf.keras.Sequential([\n",
    "    tf.keras.layers.Embedding(15000, 64),\n",
    "    tf.keras.layers.LSTM(64),\n",
    "    tf.keras.layers.Dense(64, activation='relu'),\n",
    "    tf.keras.layers.Dense(9, activation='softmax')\n",
    "])\n",
    "model.compile(loss=tf.keras.losses.CategoricalCrossentropy(),\n",
    "              optimizer=tf.keras.optimizers.Adam(1e-4),\n",
    "              metrics=['accuracy'])"
   ]
  },
  {
   "cell_type": "code",
   "execution_count": 11,
   "metadata": {},
   "outputs": [
    {
     "name": "stdout",
     "output_type": "stream",
     "text": [
      "Model: \"sequential_1\"\n",
      "_________________________________________________________________\n",
      "Layer (type)                 Output Shape              Param #   \n",
      "=================================================================\n",
      "embedding_1 (Embedding)      (None, None, 64)          960000    \n",
      "_________________________________________________________________\n",
      "lstm_1 (LSTM)                (None, 64)                33024     \n",
      "_________________________________________________________________\n",
      "dense_2 (Dense)              (None, 64)                4160      \n",
      "_________________________________________________________________\n",
      "dense_3 (Dense)              (None, 9)                 585       \n",
      "=================================================================\n",
      "Total params: 997,769\n",
      "Trainable params: 997,769\n",
      "Non-trainable params: 0\n",
      "_________________________________________________________________\n"
     ]
    }
   ],
   "source": [
    "model.summary()"
   ]
  },
  {
   "cell_type": "code",
   "execution_count": 12,
   "metadata": {},
   "outputs": [
    {
     "name": "stdout",
     "output_type": "stream",
     "text": [
      "Train on 10425 samples, validate on 1840 samples\n",
      "Epoch 1/100\n",
      "10425/10425 [==============================] - 13s 1ms/sample - loss: 2.1936 - accuracy: 0.2173 - val_loss: 2.1893 - val_accuracy: 0.2582\n",
      "Epoch 2/100\n",
      "10425/10425 [==============================] - 9s 895us/sample - loss: 2.1847 - accuracy: 0.2576 - val_loss: 2.1780 - val_accuracy: 0.2467\n",
      "Epoch 3/100\n",
      "10425/10425 [==============================] - 15s 1ms/sample - loss: 2.1683 - accuracy: 0.2454 - val_loss: 2.1518 - val_accuracy: 0.2413\n",
      "Epoch 4/100\n",
      "10425/10425 [==============================] - 12s 1ms/sample - loss: 2.1109 - accuracy: 0.2433 - val_loss: 2.0249 - val_accuracy: 0.2413\n",
      "Epoch 5/100\n",
      "10425/10425 [==============================] - 7s 677us/sample - loss: 2.0170 - accuracy: 0.2433 - val_loss: 1.9923 - val_accuracy: 0.2413\n",
      "Epoch 6/100\n",
      "10425/10425 [==============================] - 8s 741us/sample - loss: 1.9820 - accuracy: 0.2433 - val_loss: 1.9550 - val_accuracy: 0.2413\n",
      "Epoch 7/100\n",
      "10425/10425 [==============================] - 8s 792us/sample - loss: 1.9367 - accuracy: 0.2433 - val_loss: 1.9005 - val_accuracy: 0.2413\n",
      "Epoch 8/100\n",
      "10425/10425 [==============================] - 7s 695us/sample - loss: 1.8710 - accuracy: 0.2526 - val_loss: 1.8265 - val_accuracy: 0.2815\n",
      "Epoch 9/100\n",
      "10425/10425 [==============================] - 7s 702us/sample - loss: 1.7897 - accuracy: 0.3188 - val_loss: 1.7563 - val_accuracy: 0.3848\n",
      "Epoch 10/100\n",
      "10425/10425 [==============================] - 8s 794us/sample - loss: 1.7001 - accuracy: 0.3925 - val_loss: 1.6607 - val_accuracy: 0.4060\n",
      "Epoch 11/100\n",
      "10425/10425 [==============================] - 8s 752us/sample - loss: 1.6012 - accuracy: 0.4337 - val_loss: 1.5771 - val_accuracy: 0.4288\n",
      "Epoch 12/100\n",
      "10425/10425 [==============================] - 8s 729us/sample - loss: 1.5247 - accuracy: 0.4683 - val_loss: 1.5127 - val_accuracy: 0.4967\n",
      "Epoch 13/100\n",
      "10425/10425 [==============================] - 8s 741us/sample - loss: 1.4523 - accuracy: 0.5234 - val_loss: 1.4569 - val_accuracy: 0.5348\n",
      "Epoch 14/100\n",
      "10425/10425 [==============================] - 7s 682us/sample - loss: 1.3802 - accuracy: 0.5521 - val_loss: 1.4451 - val_accuracy: 0.4864\n",
      "Epoch 15/100\n",
      "10425/10425 [==============================] - 7s 704us/sample - loss: 1.3314 - accuracy: 0.5617 - val_loss: 1.3713 - val_accuracy: 0.5418\n",
      "Epoch 16/100\n",
      "10425/10425 [==============================] - 10s 979us/sample - loss: 1.2692 - accuracy: 0.5739 - val_loss: 1.3336 - val_accuracy: 0.5418\n",
      "Epoch 17/100\n",
      "10425/10425 [==============================] - 9s 816us/sample - loss: 1.2220 - accuracy: 0.5811 - val_loss: 1.3015 - val_accuracy: 0.5478\n",
      "Epoch 18/100\n",
      "10425/10425 [==============================] - 8s 780us/sample - loss: 1.1739 - accuracy: 0.5916 - val_loss: 1.2797 - val_accuracy: 0.5484\n",
      "Epoch 19/100\n",
      "10425/10425 [==============================] - 9s 829us/sample - loss: 1.1354 - accuracy: 0.5963 - val_loss: 1.2579 - val_accuracy: 0.5500\n",
      "Epoch 20/100\n",
      "10425/10425 [==============================] - 8s 813us/sample - loss: 1.0968 - accuracy: 0.6016 - val_loss: 1.2434 - val_accuracy: 0.5522\n",
      "Epoch 21/100\n",
      "10425/10425 [==============================] - 8s 719us/sample - loss: 1.0627 - accuracy: 0.6064 - val_loss: 1.2300 - val_accuracy: 0.5484\n",
      "Epoch 22/100\n",
      "10425/10425 [==============================] - 8s 776us/sample - loss: 1.0344 - accuracy: 0.6096 - val_loss: 1.2373 - val_accuracy: 0.5435\n",
      "Epoch 23/100\n",
      "10425/10425 [==============================] - 9s 818us/sample - loss: 1.0081 - accuracy: 0.6142 - val_loss: 1.2151 - val_accuracy: 0.5467\n",
      "Epoch 24/100\n",
      "10425/10425 [==============================] - 8s 781us/sample - loss: 0.9803 - accuracy: 0.6168 - val_loss: 1.2052 - val_accuracy: 0.5489\n",
      "Epoch 25/100\n",
      "10425/10425 [==============================] - 9s 835us/sample - loss: 0.9546 - accuracy: 0.6216 - val_loss: 1.2063 - val_accuracy: 0.5462\n",
      "Epoch 26/100\n",
      "10425/10425 [==============================] - 8s 782us/sample - loss: 0.9325 - accuracy: 0.6294 - val_loss: 1.1996 - val_accuracy: 0.5554\n",
      "Epoch 27/100\n",
      "10425/10425 [==============================] - 9s 825us/sample - loss: 0.9264 - accuracy: 0.6377 - val_loss: 1.1783 - val_accuracy: 0.5663\n",
      "Epoch 28/100\n",
      "10425/10425 [==============================] - 9s 827us/sample - loss: 0.9005 - accuracy: 0.6512 - val_loss: 1.1723 - val_accuracy: 0.5636\n",
      "Epoch 29/100\n",
      "10425/10425 [==============================] - 9s 824us/sample - loss: 0.8755 - accuracy: 0.6726 - val_loss: 1.1863 - val_accuracy: 0.5620\n",
      "Epoch 30/100\n",
      "10425/10425 [==============================] - 8s 757us/sample - loss: 0.8526 - accuracy: 0.6880 - val_loss: 1.1885 - val_accuracy: 0.5609\n",
      "Epoch 31/100\n",
      "10425/10425 [==============================] - 9s 818us/sample - loss: 0.8344 - accuracy: 0.6973 - val_loss: 1.1941 - val_accuracy: 0.5587\n",
      "Epoch 32/100\n",
      "10425/10425 [==============================] - 8s 753us/sample - loss: 0.8139 - accuracy: 0.7077 - val_loss: 1.2033 - val_accuracy: 0.5571\n",
      "Epoch 33/100\n",
      "10425/10425 [==============================] - 8s 735us/sample - loss: 0.7949 - accuracy: 0.7127 - val_loss: 1.2098 - val_accuracy: 0.5560\n",
      "Epoch 34/100\n",
      "10425/10425 [==============================] - 8s 736us/sample - loss: 0.7812 - accuracy: 0.7163 - val_loss: 1.2166 - val_accuracy: 0.5543\n",
      "Epoch 35/100\n",
      "10425/10425 [==============================] - 9s 830us/sample - loss: 0.7645 - accuracy: 0.7179 - val_loss: 1.2292 - val_accuracy: 0.5549\n",
      "Epoch 36/100\n",
      "10425/10425 [==============================] - 8s 770us/sample - loss: 0.7455 - accuracy: 0.7220 - val_loss: 1.2322 - val_accuracy: 0.5533\n",
      "Epoch 37/100\n",
      "10425/10425 [==============================] - 8s 771us/sample - loss: 0.7311 - accuracy: 0.7252 - val_loss: 1.2577 - val_accuracy: 0.5538\n",
      "Epoch 38/100\n",
      "10425/10425 [==============================] - 8s 778us/sample - loss: 0.7161 - accuracy: 0.7268 - val_loss: 1.2644 - val_accuracy: 0.5538\n",
      "Epoch 39/100\n",
      "10425/10425 [==============================] - 9s 835us/sample - loss: 0.7005 - accuracy: 0.7284 - val_loss: 1.2794 - val_accuracy: 0.5522\n",
      "Epoch 40/100\n",
      "10425/10425 [==============================] - 9s 828us/sample - loss: 0.6864 - accuracy: 0.7311 - val_loss: 1.2921 - val_accuracy: 0.5505\n",
      "Epoch 41/100\n",
      "10425/10425 [==============================] - 8s 741us/sample - loss: 0.6739 - accuracy: 0.7358 - val_loss: 1.3138 - val_accuracy: 0.5500\n",
      "Epoch 42/100\n",
      "10425/10425 [==============================] - 8s 798us/sample - loss: 0.6652 - accuracy: 0.7440 - val_loss: 1.3135 - val_accuracy: 0.5451\n",
      "Epoch 43/100\n",
      "10425/10425 [==============================] - 8s 776us/sample - loss: 0.6542 - accuracy: 0.7543 - val_loss: 1.3733 - val_accuracy: 0.5266\n",
      "Epoch 44/100\n",
      "10425/10425 [==============================] - 8s 751us/sample - loss: 0.6426 - accuracy: 0.7645 - val_loss: 1.3379 - val_accuracy: 0.5370\n",
      "Epoch 45/100\n",
      "10425/10425 [==============================] - 8s 735us/sample - loss: 0.6281 - accuracy: 0.7697 - val_loss: 1.3474 - val_accuracy: 0.5391\n",
      "Epoch 46/100\n",
      "10425/10425 [==============================] - 8s 809us/sample - loss: 0.6270 - accuracy: 0.7686 - val_loss: 1.3536 - val_accuracy: 0.5435\n",
      "Epoch 47/100\n",
      "10425/10425 [==============================] - 9s 841us/sample - loss: 0.6072 - accuracy: 0.7787 - val_loss: 1.3647 - val_accuracy: 0.5440\n",
      "Epoch 48/100\n",
      "10425/10425 [==============================] - 9s 837us/sample - loss: 0.5905 - accuracy: 0.7881 - val_loss: 1.3856 - val_accuracy: 0.5408\n",
      "Epoch 49/100\n",
      "10425/10425 [==============================] - 8s 814us/sample - loss: 0.5770 - accuracy: 0.7929 - val_loss: 1.4019 - val_accuracy: 0.5397\n",
      "Epoch 50/100\n",
      "10425/10425 [==============================] - 8s 810us/sample - loss: 0.5694 - accuracy: 0.7971 - val_loss: 1.4191 - val_accuracy: 0.5418\n",
      "Epoch 51/100\n",
      "10425/10425 [==============================] - 9s 830us/sample - loss: 0.5595 - accuracy: 0.7964 - val_loss: 1.4450 - val_accuracy: 0.5386\n",
      "Epoch 52/100\n",
      " 8704/10425 [========================>.....] - ETA: 1s - loss: 0.5408 - accuracy: 0.8019"
     ]
    },
    {
     "ename": "KeyboardInterrupt",
     "evalue": "",
     "output_type": "error",
     "traceback": [
      "\u001b[0;31m---------------------------------------------------------------------------\u001b[0m",
      "\u001b[0;31mKeyboardInterrupt\u001b[0m                         Traceback (most recent call last)",
      "\u001b[0;32m<ipython-input-12-fb7e34e3b332>\u001b[0m in \u001b[0;36m<module>\u001b[0;34m\u001b[0m\n\u001b[0;32m----> 1\u001b[0;31m \u001b[0mhistory\u001b[0m \u001b[0;34m=\u001b[0m \u001b[0mmodel\u001b[0m\u001b[0;34m.\u001b[0m\u001b[0mfit\u001b[0m\u001b[0;34m(\u001b[0m\u001b[0mx_train\u001b[0m\u001b[0;34m,\u001b[0m \u001b[0my_train\u001b[0m\u001b[0;34m,\u001b[0m \u001b[0mepochs\u001b[0m\u001b[0;34m=\u001b[0m\u001b[0;36m100\u001b[0m\u001b[0;34m,\u001b[0m \u001b[0mbatch_size\u001b[0m\u001b[0;34m=\u001b[0m\u001b[0;36m512\u001b[0m\u001b[0;34m,\u001b[0m \u001b[0mverbose\u001b[0m\u001b[0;34m=\u001b[0m\u001b[0;36m1\u001b[0m\u001b[0;34m,\u001b[0m \u001b[0mvalidation_split\u001b[0m \u001b[0;34m=\u001b[0m \u001b[0;36m0.15\u001b[0m\u001b[0;34m)\u001b[0m\u001b[0;34m\u001b[0m\u001b[0;34m\u001b[0m\u001b[0m\n\u001b[0m",
      "\u001b[0;32m~/anaconda3/envs/tf2/lib/python3.6/site-packages/tensorflow_core/python/keras/engine/training.py\u001b[0m in \u001b[0;36mfit\u001b[0;34m(self, x, y, batch_size, epochs, verbose, callbacks, validation_split, validation_data, shuffle, class_weight, sample_weight, initial_epoch, steps_per_epoch, validation_steps, validation_freq, max_queue_size, workers, use_multiprocessing, **kwargs)\u001b[0m\n\u001b[1;32m    817\u001b[0m         \u001b[0mmax_queue_size\u001b[0m\u001b[0;34m=\u001b[0m\u001b[0mmax_queue_size\u001b[0m\u001b[0;34m,\u001b[0m\u001b[0;34m\u001b[0m\u001b[0;34m\u001b[0m\u001b[0m\n\u001b[1;32m    818\u001b[0m         \u001b[0mworkers\u001b[0m\u001b[0;34m=\u001b[0m\u001b[0mworkers\u001b[0m\u001b[0;34m,\u001b[0m\u001b[0;34m\u001b[0m\u001b[0;34m\u001b[0m\u001b[0m\n\u001b[0;32m--> 819\u001b[0;31m         use_multiprocessing=use_multiprocessing)\n\u001b[0m\u001b[1;32m    820\u001b[0m \u001b[0;34m\u001b[0m\u001b[0m\n\u001b[1;32m    821\u001b[0m   def evaluate(self,\n",
      "\u001b[0;32m~/anaconda3/envs/tf2/lib/python3.6/site-packages/tensorflow_core/python/keras/engine/training_v2.py\u001b[0m in \u001b[0;36mfit\u001b[0;34m(self, model, x, y, batch_size, epochs, verbose, callbacks, validation_split, validation_data, shuffle, class_weight, sample_weight, initial_epoch, steps_per_epoch, validation_steps, validation_freq, max_queue_size, workers, use_multiprocessing, **kwargs)\u001b[0m\n\u001b[1;32m    340\u001b[0m                 \u001b[0mmode\u001b[0m\u001b[0;34m=\u001b[0m\u001b[0mModeKeys\u001b[0m\u001b[0;34m.\u001b[0m\u001b[0mTRAIN\u001b[0m\u001b[0;34m,\u001b[0m\u001b[0;34m\u001b[0m\u001b[0;34m\u001b[0m\u001b[0m\n\u001b[1;32m    341\u001b[0m                 \u001b[0mtraining_context\u001b[0m\u001b[0;34m=\u001b[0m\u001b[0mtraining_context\u001b[0m\u001b[0;34m,\u001b[0m\u001b[0;34m\u001b[0m\u001b[0;34m\u001b[0m\u001b[0m\n\u001b[0;32m--> 342\u001b[0;31m                 total_epochs=epochs)\n\u001b[0m\u001b[1;32m    343\u001b[0m             \u001b[0mcbks\u001b[0m\u001b[0;34m.\u001b[0m\u001b[0mmake_logs\u001b[0m\u001b[0;34m(\u001b[0m\u001b[0mmodel\u001b[0m\u001b[0;34m,\u001b[0m \u001b[0mepoch_logs\u001b[0m\u001b[0;34m,\u001b[0m \u001b[0mtraining_result\u001b[0m\u001b[0;34m,\u001b[0m \u001b[0mModeKeys\u001b[0m\u001b[0;34m.\u001b[0m\u001b[0mTRAIN\u001b[0m\u001b[0;34m)\u001b[0m\u001b[0;34m\u001b[0m\u001b[0;34m\u001b[0m\u001b[0m\n\u001b[1;32m    344\u001b[0m \u001b[0;34m\u001b[0m\u001b[0m\n",
      "\u001b[0;32m~/anaconda3/envs/tf2/lib/python3.6/site-packages/tensorflow_core/python/keras/engine/training_v2.py\u001b[0m in \u001b[0;36mrun_one_epoch\u001b[0;34m(model, iterator, execution_function, dataset_size, batch_size, strategy, steps_per_epoch, num_samples, mode, training_context, total_epochs)\u001b[0m\n\u001b[1;32m    126\u001b[0m         step=step, mode=mode, size=current_batch_size) as batch_logs:\n\u001b[1;32m    127\u001b[0m       \u001b[0;32mtry\u001b[0m\u001b[0;34m:\u001b[0m\u001b[0;34m\u001b[0m\u001b[0;34m\u001b[0m\u001b[0m\n\u001b[0;32m--> 128\u001b[0;31m         \u001b[0mbatch_outs\u001b[0m \u001b[0;34m=\u001b[0m \u001b[0mexecution_function\u001b[0m\u001b[0;34m(\u001b[0m\u001b[0miterator\u001b[0m\u001b[0;34m)\u001b[0m\u001b[0;34m\u001b[0m\u001b[0;34m\u001b[0m\u001b[0m\n\u001b[0m\u001b[1;32m    129\u001b[0m       \u001b[0;32mexcept\u001b[0m \u001b[0;34m(\u001b[0m\u001b[0mStopIteration\u001b[0m\u001b[0;34m,\u001b[0m \u001b[0merrors\u001b[0m\u001b[0;34m.\u001b[0m\u001b[0mOutOfRangeError\u001b[0m\u001b[0;34m)\u001b[0m\u001b[0;34m:\u001b[0m\u001b[0;34m\u001b[0m\u001b[0;34m\u001b[0m\u001b[0m\n\u001b[1;32m    130\u001b[0m         \u001b[0;31m# TODO(kaftan): File bug about tf function and errors.OutOfRangeError?\u001b[0m\u001b[0;34m\u001b[0m\u001b[0;34m\u001b[0m\u001b[0;34m\u001b[0m\u001b[0m\n",
      "\u001b[0;32m~/anaconda3/envs/tf2/lib/python3.6/site-packages/tensorflow_core/python/keras/engine/training_v2_utils.py\u001b[0m in \u001b[0;36mexecution_function\u001b[0;34m(input_fn)\u001b[0m\n\u001b[1;32m     96\u001b[0m     \u001b[0;31m# `numpy` translates Tensors to values in Eager mode.\u001b[0m\u001b[0;34m\u001b[0m\u001b[0;34m\u001b[0m\u001b[0;34m\u001b[0m\u001b[0m\n\u001b[1;32m     97\u001b[0m     return nest.map_structure(_non_none_constant_value,\n\u001b[0;32m---> 98\u001b[0;31m                               distributed_function(input_fn))\n\u001b[0m\u001b[1;32m     99\u001b[0m \u001b[0;34m\u001b[0m\u001b[0m\n\u001b[1;32m    100\u001b[0m   \u001b[0;32mreturn\u001b[0m \u001b[0mexecution_function\u001b[0m\u001b[0;34m\u001b[0m\u001b[0;34m\u001b[0m\u001b[0m\n",
      "\u001b[0;32m~/anaconda3/envs/tf2/lib/python3.6/site-packages/tensorflow_core/python/eager/def_function.py\u001b[0m in \u001b[0;36m__call__\u001b[0;34m(self, *args, **kwds)\u001b[0m\n\u001b[1;32m    566\u001b[0m         \u001b[0mxla_context\u001b[0m\u001b[0;34m.\u001b[0m\u001b[0mExit\u001b[0m\u001b[0;34m(\u001b[0m\u001b[0;34m)\u001b[0m\u001b[0;34m\u001b[0m\u001b[0;34m\u001b[0m\u001b[0m\n\u001b[1;32m    567\u001b[0m     \u001b[0;32melse\u001b[0m\u001b[0;34m:\u001b[0m\u001b[0;34m\u001b[0m\u001b[0;34m\u001b[0m\u001b[0m\n\u001b[0;32m--> 568\u001b[0;31m       \u001b[0mresult\u001b[0m \u001b[0;34m=\u001b[0m \u001b[0mself\u001b[0m\u001b[0;34m.\u001b[0m\u001b[0m_call\u001b[0m\u001b[0;34m(\u001b[0m\u001b[0;34m*\u001b[0m\u001b[0margs\u001b[0m\u001b[0;34m,\u001b[0m \u001b[0;34m**\u001b[0m\u001b[0mkwds\u001b[0m\u001b[0;34m)\u001b[0m\u001b[0;34m\u001b[0m\u001b[0;34m\u001b[0m\u001b[0m\n\u001b[0m\u001b[1;32m    569\u001b[0m \u001b[0;34m\u001b[0m\u001b[0m\n\u001b[1;32m    570\u001b[0m     \u001b[0;32mif\u001b[0m \u001b[0mtracing_count\u001b[0m \u001b[0;34m==\u001b[0m \u001b[0mself\u001b[0m\u001b[0;34m.\u001b[0m\u001b[0m_get_tracing_count\u001b[0m\u001b[0;34m(\u001b[0m\u001b[0;34m)\u001b[0m\u001b[0;34m:\u001b[0m\u001b[0;34m\u001b[0m\u001b[0;34m\u001b[0m\u001b[0m\n",
      "\u001b[0;32m~/anaconda3/envs/tf2/lib/python3.6/site-packages/tensorflow_core/python/eager/def_function.py\u001b[0m in \u001b[0;36m_call\u001b[0;34m(self, *args, **kwds)\u001b[0m\n\u001b[1;32m    597\u001b[0m       \u001b[0;31m# In this case we have created variables on the first call, so we run the\u001b[0m\u001b[0;34m\u001b[0m\u001b[0;34m\u001b[0m\u001b[0;34m\u001b[0m\u001b[0m\n\u001b[1;32m    598\u001b[0m       \u001b[0;31m# defunned version which is guaranteed to never create variables.\u001b[0m\u001b[0;34m\u001b[0m\u001b[0;34m\u001b[0m\u001b[0;34m\u001b[0m\u001b[0m\n\u001b[0;32m--> 599\u001b[0;31m       \u001b[0;32mreturn\u001b[0m \u001b[0mself\u001b[0m\u001b[0;34m.\u001b[0m\u001b[0m_stateless_fn\u001b[0m\u001b[0;34m(\u001b[0m\u001b[0;34m*\u001b[0m\u001b[0margs\u001b[0m\u001b[0;34m,\u001b[0m \u001b[0;34m**\u001b[0m\u001b[0mkwds\u001b[0m\u001b[0;34m)\u001b[0m  \u001b[0;31m# pylint: disable=not-callable\u001b[0m\u001b[0;34m\u001b[0m\u001b[0;34m\u001b[0m\u001b[0m\n\u001b[0m\u001b[1;32m    600\u001b[0m     \u001b[0;32melif\u001b[0m \u001b[0mself\u001b[0m\u001b[0;34m.\u001b[0m\u001b[0m_stateful_fn\u001b[0m \u001b[0;32mis\u001b[0m \u001b[0;32mnot\u001b[0m \u001b[0;32mNone\u001b[0m\u001b[0;34m:\u001b[0m\u001b[0;34m\u001b[0m\u001b[0;34m\u001b[0m\u001b[0m\n\u001b[1;32m    601\u001b[0m       \u001b[0;31m# Release the lock early so that multiple threads can perform the call\u001b[0m\u001b[0;34m\u001b[0m\u001b[0;34m\u001b[0m\u001b[0;34m\u001b[0m\u001b[0m\n",
      "\u001b[0;32m~/anaconda3/envs/tf2/lib/python3.6/site-packages/tensorflow_core/python/eager/function.py\u001b[0m in \u001b[0;36m__call__\u001b[0;34m(self, *args, **kwargs)\u001b[0m\n\u001b[1;32m   2361\u001b[0m     \u001b[0;32mwith\u001b[0m \u001b[0mself\u001b[0m\u001b[0;34m.\u001b[0m\u001b[0m_lock\u001b[0m\u001b[0;34m:\u001b[0m\u001b[0;34m\u001b[0m\u001b[0;34m\u001b[0m\u001b[0m\n\u001b[1;32m   2362\u001b[0m       \u001b[0mgraph_function\u001b[0m\u001b[0;34m,\u001b[0m \u001b[0margs\u001b[0m\u001b[0;34m,\u001b[0m \u001b[0mkwargs\u001b[0m \u001b[0;34m=\u001b[0m \u001b[0mself\u001b[0m\u001b[0;34m.\u001b[0m\u001b[0m_maybe_define_function\u001b[0m\u001b[0;34m(\u001b[0m\u001b[0margs\u001b[0m\u001b[0;34m,\u001b[0m \u001b[0mkwargs\u001b[0m\u001b[0;34m)\u001b[0m\u001b[0;34m\u001b[0m\u001b[0;34m\u001b[0m\u001b[0m\n\u001b[0;32m-> 2363\u001b[0;31m     \u001b[0;32mreturn\u001b[0m \u001b[0mgraph_function\u001b[0m\u001b[0;34m.\u001b[0m\u001b[0m_filtered_call\u001b[0m\u001b[0;34m(\u001b[0m\u001b[0margs\u001b[0m\u001b[0;34m,\u001b[0m \u001b[0mkwargs\u001b[0m\u001b[0;34m)\u001b[0m  \u001b[0;31m# pylint: disable=protected-access\u001b[0m\u001b[0;34m\u001b[0m\u001b[0;34m\u001b[0m\u001b[0m\n\u001b[0m\u001b[1;32m   2364\u001b[0m \u001b[0;34m\u001b[0m\u001b[0m\n\u001b[1;32m   2365\u001b[0m   \u001b[0;34m@\u001b[0m\u001b[0mproperty\u001b[0m\u001b[0;34m\u001b[0m\u001b[0;34m\u001b[0m\u001b[0m\n",
      "\u001b[0;32m~/anaconda3/envs/tf2/lib/python3.6/site-packages/tensorflow_core/python/eager/function.py\u001b[0m in \u001b[0;36m_filtered_call\u001b[0;34m(self, args, kwargs)\u001b[0m\n\u001b[1;32m   1609\u001b[0m          if isinstance(t, (ops.Tensor,\n\u001b[1;32m   1610\u001b[0m                            resource_variable_ops.BaseResourceVariable))),\n\u001b[0;32m-> 1611\u001b[0;31m         self.captured_inputs)\n\u001b[0m\u001b[1;32m   1612\u001b[0m \u001b[0;34m\u001b[0m\u001b[0m\n\u001b[1;32m   1613\u001b[0m   \u001b[0;32mdef\u001b[0m \u001b[0m_call_flat\u001b[0m\u001b[0;34m(\u001b[0m\u001b[0mself\u001b[0m\u001b[0;34m,\u001b[0m \u001b[0margs\u001b[0m\u001b[0;34m,\u001b[0m \u001b[0mcaptured_inputs\u001b[0m\u001b[0;34m,\u001b[0m \u001b[0mcancellation_manager\u001b[0m\u001b[0;34m=\u001b[0m\u001b[0;32mNone\u001b[0m\u001b[0;34m)\u001b[0m\u001b[0;34m:\u001b[0m\u001b[0;34m\u001b[0m\u001b[0;34m\u001b[0m\u001b[0m\n",
      "\u001b[0;32m~/anaconda3/envs/tf2/lib/python3.6/site-packages/tensorflow_core/python/eager/function.py\u001b[0m in \u001b[0;36m_call_flat\u001b[0;34m(self, args, captured_inputs, cancellation_manager)\u001b[0m\n\u001b[1;32m   1690\u001b[0m       \u001b[0;31m# No tape is watching; skip to running the function.\u001b[0m\u001b[0;34m\u001b[0m\u001b[0;34m\u001b[0m\u001b[0;34m\u001b[0m\u001b[0m\n\u001b[1;32m   1691\u001b[0m       return self._build_call_outputs(self._inference_function.call(\n\u001b[0;32m-> 1692\u001b[0;31m           ctx, args, cancellation_manager=cancellation_manager))\n\u001b[0m\u001b[1;32m   1693\u001b[0m     forward_backward = self._select_forward_and_backward_functions(\n\u001b[1;32m   1694\u001b[0m         \u001b[0margs\u001b[0m\u001b[0;34m,\u001b[0m\u001b[0;34m\u001b[0m\u001b[0;34m\u001b[0m\u001b[0m\n",
      "\u001b[0;32m~/anaconda3/envs/tf2/lib/python3.6/site-packages/tensorflow_core/python/eager/function.py\u001b[0m in \u001b[0;36mcall\u001b[0;34m(self, ctx, args, cancellation_manager)\u001b[0m\n\u001b[1;32m    543\u001b[0m               \u001b[0minputs\u001b[0m\u001b[0;34m=\u001b[0m\u001b[0margs\u001b[0m\u001b[0;34m,\u001b[0m\u001b[0;34m\u001b[0m\u001b[0;34m\u001b[0m\u001b[0m\n\u001b[1;32m    544\u001b[0m               \u001b[0mattrs\u001b[0m\u001b[0;34m=\u001b[0m\u001b[0;34m(\u001b[0m\u001b[0;34m\"executor_type\"\u001b[0m\u001b[0;34m,\u001b[0m \u001b[0mexecutor_type\u001b[0m\u001b[0;34m,\u001b[0m \u001b[0;34m\"config_proto\"\u001b[0m\u001b[0;34m,\u001b[0m \u001b[0mconfig\u001b[0m\u001b[0;34m)\u001b[0m\u001b[0;34m,\u001b[0m\u001b[0;34m\u001b[0m\u001b[0;34m\u001b[0m\u001b[0m\n\u001b[0;32m--> 545\u001b[0;31m               ctx=ctx)\n\u001b[0m\u001b[1;32m    546\u001b[0m         \u001b[0;32melse\u001b[0m\u001b[0;34m:\u001b[0m\u001b[0;34m\u001b[0m\u001b[0;34m\u001b[0m\u001b[0m\n\u001b[1;32m    547\u001b[0m           outputs = execute.execute_with_cancellation(\n",
      "\u001b[0;32m~/anaconda3/envs/tf2/lib/python3.6/site-packages/tensorflow_core/python/eager/execute.py\u001b[0m in \u001b[0;36mquick_execute\u001b[0;34m(op_name, num_outputs, inputs, attrs, ctx, name)\u001b[0m\n\u001b[1;32m     59\u001b[0m     tensors = pywrap_tensorflow.TFE_Py_Execute(ctx._handle, device_name,\n\u001b[1;32m     60\u001b[0m                                                \u001b[0mop_name\u001b[0m\u001b[0;34m,\u001b[0m \u001b[0minputs\u001b[0m\u001b[0;34m,\u001b[0m \u001b[0mattrs\u001b[0m\u001b[0;34m,\u001b[0m\u001b[0;34m\u001b[0m\u001b[0;34m\u001b[0m\u001b[0m\n\u001b[0;32m---> 61\u001b[0;31m                                                num_outputs)\n\u001b[0m\u001b[1;32m     62\u001b[0m   \u001b[0;32mexcept\u001b[0m \u001b[0mcore\u001b[0m\u001b[0;34m.\u001b[0m\u001b[0m_NotOkStatusException\u001b[0m \u001b[0;32mas\u001b[0m \u001b[0me\u001b[0m\u001b[0;34m:\u001b[0m\u001b[0;34m\u001b[0m\u001b[0;34m\u001b[0m\u001b[0m\n\u001b[1;32m     63\u001b[0m     \u001b[0;32mif\u001b[0m \u001b[0mname\u001b[0m \u001b[0;32mis\u001b[0m \u001b[0;32mnot\u001b[0m \u001b[0;32mNone\u001b[0m\u001b[0;34m:\u001b[0m\u001b[0;34m\u001b[0m\u001b[0;34m\u001b[0m\u001b[0m\n",
      "\u001b[0;31mKeyboardInterrupt\u001b[0m: "
     ]
    }
   ],
   "source": [
    "history = model.fit(x_train, y_train, epochs=100, batch_size=512, verbose=1, validation_split = 0.15)"
   ]
  },
  {
   "cell_type": "code",
   "execution_count": 21,
   "metadata": {},
   "outputs": [
    {
     "name": "stdout",
     "output_type": "stream",
     "text": [
      "1363/1363 [==============================] - 0s 79us/sample - loss: 0.5671 - accuracy: 0.8225\n"
     ]
    },
    {
     "data": {
      "text/plain": [
       "[0.5670529038523019, 0.82245046]"
      ]
     },
     "execution_count": 21,
     "metadata": {},
     "output_type": "execute_result"
    }
   ],
   "source": [
    "model.evaluate(x_test, y_test)"
   ]
  },
  {
   "cell_type": "code",
   "execution_count": 16,
   "metadata": {},
   "outputs": [
    {
     "data": {
      "text/plain": [
       "(12265, 100)"
      ]
     },
     "execution_count": 16,
     "metadata": {},
     "output_type": "execute_result"
    }
   ],
   "source": [
    "x_train.shape"
   ]
  },
  {
   "cell_type": "code",
   "execution_count": null,
   "metadata": {},
   "outputs": [],
   "source": []
  }
 ],
 "metadata": {
  "kernelspec": {
   "display_name": "Python 3",
   "language": "python",
   "name": "python3"
  },
  "language_info": {
   "codemirror_mode": {
    "name": "ipython",
    "version": 3
   },
   "file_extension": ".py",
   "mimetype": "text/x-python",
   "name": "python",
   "nbconvert_exporter": "python",
   "pygments_lexer": "ipython3",
   "version": "3.6.10"
  }
 },
 "nbformat": 4,
 "nbformat_minor": 4
}
